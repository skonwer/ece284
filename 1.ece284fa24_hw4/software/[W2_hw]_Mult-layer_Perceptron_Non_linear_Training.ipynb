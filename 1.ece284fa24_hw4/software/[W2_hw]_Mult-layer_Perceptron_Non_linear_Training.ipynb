{
 "cells": [
  {
   "cell_type": "code",
   "execution_count": 5,
   "id": "3128ea54",
   "metadata": {},
   "outputs": [
    {
     "name": "stdout",
     "output_type": "stream",
     "text": [
      "Net(\n",
      "  (fc1): Linear(in_features=1, out_features=1, bias=False)\n",
      ")\n",
      "[Parameter containing:\n",
      "tensor([[-0.7993]], requires_grad=True)]\n"
     ]
    },
    {
     "data": {
      "image/png": "[encoded data removed]",
      "text/plain": [
       "<Figure size 800x600 with 1 Axes>"
      ]
     },
     "metadata": {},
     "output_type": "display_data"
    }
   ],
   "source": [
    "### Training with fancier version ###\n",
    "\n",
    "import torch\n",
    "import torch.nn as nn\n",
    "import torch.nn.functional as F\n",
    "\n",
    "import torch.optim as optim\n",
    "import matplotlib.pyplot as plt\n",
    "\n",
    "class Net(nn.Module): ## nn.Module class is used\n",
    "    def __init__(self):\n",
    "        super(Net, self).__init__()\n",
    "        self.fc1 = nn.Linear(1,1,bias=False)  # in dim, out dim\n",
    "        \n",
    "    def forward(self, x):\n",
    "        x = self.fc1(x)\n",
    "        return x\n",
    "\n",
    "net = Net()\n",
    "\n",
    "print(net)\n",
    "print(list(net.parameters())) # parameters are randomized\n",
    "\n",
    "\n",
    "#def criterion(out, label):\n",
    "#    return (label - out)**2\n",
    "criterion = nn.MSELoss()\n",
    "\n",
    "\n",
    "optimizer = optim.SGD(net.parameters(), lr=0.1)\n",
    "#optimizer = optim.Adam(net.parameters(), lr=0.1)\n",
    "\n",
    "\n",
    "data = [(1.0,3.0), (2.0,6.0), (3.0,10.0), (4.0,15.0), (5.0,22.0), (6.0,32.0)]\n",
    "\n",
    "# Split data into x and y\n",
    "x_values, y_values = zip(*data)\n",
    "\n",
    "# Plotting\n",
    "plt.figure(figsize=(8, 6))\n",
    "plt.plot(x_values, y_values, marker='o', linestyle='-', color='b')\n",
    "plt.xlabel('X values')\n",
    "plt.ylabel('Y values')\n",
    "plt.grid(True)\n",
    "plt.show()"
   ]
  },
  {
   "cell_type": "code",
   "execution_count": 2,
   "id": "fleet-packet",
   "metadata": {},
   "outputs": [
    {
     "name": "stdout",
     "output_type": "stream",
     "text": [
      "Net(\n",
      "  (fc1): Linear(in_features=1, out_features=1, bias=False)\n",
      ")\n",
      "[Parameter containing:\n",
      "tensor([[0.3427]], requires_grad=True)]\n",
      "Epoch 0 - loss: 401.5632629394531\n",
      "Epoch 1 - loss: 15940.7421875\n",
      "Epoch 2 - loss: 753504.5\n",
      "Epoch 3 - loss: 36583976.0\n",
      "Epoch 4 - loss: 1783109632.0\n",
      "Epoch 5 - loss: 86957383680.0\n",
      "Epoch 6 - loss: 4241012031488.0\n",
      "Epoch 7 - loss: 206841346785280.0\n",
      "Epoch 8 - loss: 1.0088021332328448e+16\n",
      "Epoch 9 - loss: 4.920110781049078e+17\n",
      "when x = tensor([1.]), y = tensor([-7.2482e+08], grad_fn=<SqueezeBackward3>)\n",
      "when x = tensor([2.]), y = tensor([-1.4496e+09], grad_fn=<SqueezeBackward3>)\n",
      "when x = tensor([3.]), y = tensor([-2.1744e+09], grad_fn=<SqueezeBackward3>)\n",
      "when x = tensor([4.]), y = tensor([-2.8993e+09], grad_fn=<SqueezeBackward3>)\n",
      "when x = tensor([5.]), y = tensor([-3.6241e+09], grad_fn=<SqueezeBackward3>)\n",
      "when x = tensor([6.]), y = tensor([-4.3489e+09], grad_fn=<SqueezeBackward3>)\n"
     ]
    }
   ],
   "source": [
    "for epoch in range(10): # 0 - 19\n",
    "    for i, current_data in enumerate(data):\n",
    "        X, Y = current_data\n",
    "        X, Y = torch.FloatTensor([X]), torch.FloatTensor([Y])\n",
    "        optimizer.zero_grad()   \n",
    "        outputs = net(X)\n",
    "        loss = criterion(outputs, Y)\n",
    "        loss.backward()\n",
    "        optimizer.step()    ## This line is equivalent to \"W = W - lr* W.grad\"\n",
    "    print(\"Epoch {} - loss: {}\".format(epoch, loss))\n",
    "\n",
    "\n",
    "### Test the trained network ###            \n",
    "for i, current_data in enumerate(data):\n",
    "    X, Y = current_data\n",
    "    X, Y = torch.FloatTensor([X]), torch.FloatTensor([Y])  \n",
    "    out = net(torch.FloatTensor(X))  \n",
    "    print(\"when x = {}, y = {}\".format(X, out))\n",
    "    "
   ]
  },
  {
   "cell_type": "code",
   "execution_count": null,
   "id": "fc3bf460",
   "metadata": {},
   "outputs": [],
   "source": [
    "X"
   ]
  },
  {
   "cell_type": "code",
   "execution_count": null,
   "id": "negative-complement",
   "metadata": {},
   "outputs": [],
   "source": [
    "for epoch in range(20):\n",
    "    print(epoch)"
   ]
  },
  {
   "cell_type": "code",
   "execution_count": null,
   "id": "prostate-survivor",
   "metadata": {},
   "outputs": [],
   "source": [
    "W = torch.tensor([1.0], requires_grad=True)\n",
    "W = W*2\n",
    "label = 1.0\n",
    "loss = W*5 - label \n",
    "loss.backward()\n",
    "W.grad"
   ]
  },
  {
   "cell_type": "code",
   "execution_count": null,
   "id": "anticipated-light",
   "metadata": {},
   "outputs": [],
   "source": []
  },
  {
   "cell_type": "code",
   "execution_count": null,
   "id": "aboriginal-growth",
   "metadata": {},
   "outputs": [],
   "source": []
  },
  {
   "cell_type": "code",
   "execution_count": null,
   "id": "innovative-schema",
   "metadata": {},
   "outputs": [],
   "source": []
  },
  {
   "cell_type": "code",
   "execution_count": null,
   "id": "enabling-cathedral",
   "metadata": {},
   "outputs": [],
   "source": []
  },
  {
   "cell_type": "code",
   "execution_count": null,
   "id": "annual-chrome",
   "metadata": {},
   "outputs": [],
   "source": []
  }
 ],
 "metadata": {
  "kernelspec": {
   "display_name": "Python 3 (ipykernel)",
   "language": "python",
   "name": "python3"
  },
  "language_info": {
   "codemirror_mode": {
    "name": "ipython",
    "version": 3
   },
   "file_extension": ".py",
   "mimetype": "text/x-python",
   "name": "python",
   "nbconvert_exporter": "python",
   "pygments_lexer": "ipython3",
   "version": "3.8.3"
  }
 },
 "nbformat": 4,
 "nbformat_minor": 5
}
